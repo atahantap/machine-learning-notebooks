{
 "cells": [
  {
   "cell_type": "markdown",
   "id": "017c2b63",
   "metadata": {},
   "source": [
    "# Homework 03\n",
    "\n",
    "### Atahan Tap\n",
    "### 69374"
   ]
  },
  {
   "cell_type": "markdown",
   "id": "71bd26b2",
   "metadata": {},
   "source": [
    "## Importing Data"
   ]
  },
  {
   "cell_type": "code",
   "execution_count": 21,
   "id": "dbf3edba",
   "metadata": {},
   "outputs": [
    {
     "name": "stdout",
     "output_type": "stream",
     "text": [
      "Data set divided into training set and test set with corresponding labels. \n",
      "\n"
     ]
    }
   ],
   "source": [
    "import math\n",
    "import matplotlib.pyplot as plt\n",
    "import numpy as np\n",
    "import scipy.stats as stats\n",
    "import pandas as pd\n",
    "\n",
    "data_set_labels = np.genfromtxt(\"hw03_data_set_labels.csv\", converters = {0: lambda n : int(n)})\n",
    "data_set_images = np.genfromtxt(\"hw03_data_set_images.csv\", delimiter = \",\")\n",
    "\n",
    "training_set = []\n",
    "test_set = []\n",
    "\n",
    "for i in range(len(data_set_images)):\n",
    "    if i%39 < 25:\n",
    "        training_set.append(data_set_images[i])\n",
    "    else:\n",
    "        test_set.append(data_set_images[i])\n",
    "        \n",
    "training_set = np.array(training_set)\n",
    "test_set = np.array(test_set)\n",
    "\n",
    "training_set_labels = []\n",
    "test_set_labels = []\n",
    "\n",
    "for i in range(len(data_set_labels)):\n",
    "    if i%39 < 25:\n",
    "        training_set_labels.append(data_set_labels[i])\n",
    "    else:\n",
    "        test_set_labels.append(data_set_labels[i])\n",
    "        \n",
    "training_set_labels = np.array(training_set_labels)\n",
    "test_set_labels = np.array(test_set_labels)\n",
    "\n",
    "K = np.max(data_set_labels)\n",
    "N = training_set.shape[0]\n",
    "\n",
    "Y_truth = np.zeros((N, K)).astype(int)\n",
    "Y_truth[range(N), training_set_labels - 1] = 1\n",
    "\n",
    "print('Data set divided into training set and test set with corresponding labels. \\n')"
   ]
  },
  {
   "cell_type": "markdown",
   "id": "e809ca13",
   "metadata": {},
   "source": [
    "## Sigmoid and Gradient functions"
   ]
  },
  {
   "cell_type": "code",
   "execution_count": 22,
   "id": "371b1ffc",
   "metadata": {},
   "outputs": [],
   "source": [
    "def sigmoid(X, w, w0):\n",
    "    return(1 / (1 + np.exp(-(np.matmul(X, w) + w0))))"
   ]
  },
  {
   "cell_type": "code",
   "execution_count": 23,
   "id": "0263ee11",
   "metadata": {},
   "outputs": [],
   "source": [
    "def gradient_W(X, Y_truth, Y_predicted):\n",
    "    return(np.asarray([-np.matmul(Y_truth[:,c] - Y_predicted[:,c], X) for c in range(K)]).transpose())\n",
    "\n",
    "def gradient_w0(Y_truth, Y_predicted):\n",
    "    return(-np.sum(Y_truth - Y_predicted, axis = 0))"
   ]
  },
  {
   "cell_type": "markdown",
   "id": "b9ad436e",
   "metadata": {},
   "source": [
    "### Parameters"
   ]
  },
  {
   "cell_type": "code",
   "execution_count": 24,
   "id": "2365a1bd",
   "metadata": {},
   "outputs": [],
   "source": [
    "eta = 0.001\n",
    "epsilon = 0.001"
   ]
  },
  {
   "cell_type": "markdown",
   "id": "5215b334",
   "metadata": {},
   "source": [
    "### Initialization of parameters"
   ]
  },
  {
   "cell_type": "code",
   "execution_count": 25,
   "id": "6004b6c8",
   "metadata": {},
   "outputs": [],
   "source": [
    "W = np.random.uniform(low = -0.01, high = 0.01, size = (training_set.shape[1], K))\n",
    "w0 = np.random.uniform(low = -0.01, high = 0.01, size = (1, K))\n",
    "\n",
    "def safelog(n):\n",
    "    return np.log(n+1e-100)"
   ]
  },
  {
   "cell_type": "markdown",
   "id": "a494b7c6",
   "metadata": {},
   "source": [
    "## Iterative algorithm"
   ]
  },
  {
   "cell_type": "code",
   "execution_count": 26,
   "id": "f47124f9",
   "metadata": {},
   "outputs": [
    {
     "name": "stdout",
     "output_type": "stream",
     "text": [
      "[[-0.01232085 -0.10875749 -0.02589668  0.25033479 -0.04096924]\n",
      " [-0.13551908  0.01523254 -0.25721299  0.42806084  0.07949414]\n",
      " [-0.15928883  0.13287313 -0.27341638  0.32087764  0.08943034]\n",
      " ...\n",
      " [ 0.06566201  0.28499196  0.09365657 -0.30553153 -0.24376383]\n",
      " [ 0.12137637 -0.34922337  0.09522108 -0.3821603  -0.01111678]\n",
      " [ 0.14475666 -0.51844485  0.17726443 -0.3181454  -0.01299211]]\n",
      "[[-0.09542215 -0.38497328 -0.00239406 -0.06647172 -0.35220853]]\n"
     ]
    }
   ],
   "source": [
    "iteration = 1\n",
    "objective_values = []\n",
    "\n",
    "while True:\n",
    "    Y_predicted = sigmoid(training_set, W, w0)\n",
    "\n",
    "    objective_values = np.append(objective_values, np.sum((Y_truth -Y_predicted)**2)/2)\n",
    "    \n",
    "    W_old = W\n",
    "    w0_old = w0\n",
    "\n",
    "    W = W - eta * gradient_W(training_set, Y_truth, Y_predicted)\n",
    "    w0 = w0 - eta * gradient_w0(Y_truth, Y_predicted)\n",
    "\n",
    "    error = np.sqrt(np.sum((w0 - w0_old))**2 + np.sum((W - W_old)**2))\n",
    "    \n",
    "    if error < epsilon:\n",
    "        break\n",
    "\n",
    "    iteration += 1\n",
    "    \n",
    "print(W)\n",
    "print(w0)"
   ]
  },
  {
   "cell_type": "markdown",
   "id": "a07bf0a6",
   "metadata": {},
   "source": [
    "## Plotting the objective function values"
   ]
  },
  {
   "cell_type": "code",
   "execution_count": 27,
   "id": "43eb8939",
   "metadata": {},
   "outputs": [
    {
     "data": {
      "image/png": "[encoded data removed]",
      "text/plain": [
       "<Figure size 720x432 with 1 Axes>"
      ]
     },
     "metadata": {
      "needs_background": "light"
     },
     "output_type": "display_data"
    }
   ],
   "source": [
    "plt.figure(figsize = (10, 6))\n",
    "plt.plot(range(1, iteration + 1), objective_values, \"k-\")\n",
    "plt.xlabel(\"Iteration\")\n",
    "plt.ylabel(\"Error\")\n",
    "plt.show()"
   ]
  },
  {
   "cell_type": "markdown",
   "id": "f3636218",
   "metadata": {},
   "source": [
    "## Confusion matrices"
   ]
  },
  {
   "cell_type": "markdown",
   "id": "6913462e",
   "metadata": {},
   "source": [
    "### Training set"
   ]
  },
  {
   "cell_type": "code",
   "execution_count": 28,
   "id": "2fb0e4a5",
   "metadata": {},
   "outputs": [
    {
     "name": "stdout",
     "output_type": "stream",
     "text": [
      "y_truth   1   2   3   4   5\n",
      "y_pred                     \n",
      "1        25   0   0   0   0\n",
      "2         0  25   0   0   0\n",
      "3         0   0  25   0   0\n",
      "4         0   0   0  25   0\n",
      "5         0   0   0   0  25\n"
     ]
    }
   ],
   "source": [
    "y_predicted = np.argmax(Y_predicted, axis = 1) + 1\n",
    "confusion_matrix_training = pd.crosstab(y_predicted, training_set_labels, rownames = [\"y_pred\"], colnames = [\"y_truth\"])\n",
    "print(confusion_matrix_training)"
   ]
  },
  {
   "cell_type": "markdown",
   "id": "070167c5",
   "metadata": {},
   "source": [
    "### Test set"
   ]
  },
  {
   "cell_type": "code",
   "execution_count": 29,
   "id": "1d57bfb2",
   "metadata": {},
   "outputs": [
    {
     "name": "stdout",
     "output_type": "stream",
     "text": [
      "y_truth   1   2   3   4   5\n",
      "y_pred                     \n",
      "1        13   1   0   0   0\n",
      "2         1  11   0   0   1\n",
      "3         0   0  14   0   0\n",
      "4         0   0   0  14   0\n",
      "5         0   2   0   0  13\n"
     ]
    }
   ],
   "source": [
    "Y_predicted_test = sigmoid(test_set, W, w0)\n",
    "y_predicted_test = np.argmax(Y_predicted_test, axis = 1) + 1\n",
    "confusion_matrix_test = pd.crosstab(y_predicted_test, test_set_labels, rownames = [\"y_pred\"], colnames = [\"y_truth\"])\n",
    "print(confusion_matrix_test)"
   ]
  },
  {
   "cell_type": "code",
   "execution_count": null,
   "id": "beb2b3dd",
   "metadata": {},
   "outputs": [],
   "source": []
  }
 ],
 "metadata": {
  "kernelspec": {
   "display_name": "Python 3 (ipykernel)",
   "language": "python",
   "name": "python3"
  },
  "language_info": {
   "codemirror_mode": {
    "name": "ipython",
    "version": 3
   },
   "file_extension": ".py",
   "mimetype": "text/x-python",
   "name": "python",
   "nbconvert_exporter": "python",
   "pygments_lexer": "ipython3",
   "version": "3.8.1"
  }
 },
 "nbformat": 4,
 "nbformat_minor": 5
}
