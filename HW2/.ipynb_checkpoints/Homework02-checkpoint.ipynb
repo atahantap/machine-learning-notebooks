{
 "cells": [
  {
   "cell_type": "markdown",
   "id": "7b2537b9",
   "metadata": {},
   "source": [
    "# Homework 03\n",
    "\n",
    "### Atahan Tap\n",
    "### 69374"
   ]
  },
  {
   "cell_type": "markdown",
   "id": "029dc96a",
   "metadata": {},
   "source": [
    "## Importing Data"
   ]
  },
  {
   "cell_type": "code",
   "execution_count": 42,
   "id": "c485f62c",
   "metadata": {},
   "outputs": [],
   "source": [
    "import math\n",
    "import matplotlib.pyplot as plt\n",
    "import numpy as np\n",
    "import scipy.stats as stats\n",
    "\n",
    "data_set_labels = np.genfromtxt(\"hw02_data_set_labels.csv\", converters = {0: lambda n : int(n)})\n",
    "data_set_images = np.genfromtxt(\"hw02_data_set_images.csv\", delimiter = \",\")\n",
    "\n",
    "training_set = []\n",
    "test_set = []\n",
    "\n",
    "for i in range(len(data_set_images)):\n",
    "    if i%39 < 25:\n",
    "        training_set.append(data_set_images[i])\n",
    "    else:\n",
    "        test_set.append(data_set_images[i])\n",
    "        \n",
    "training_set = np.array(training_set)\n",
    "test_set = np.array(test_set)\n",
    "\n",
    "training_set_labels = []\n",
    "test_set_labels = []\n",
    "\n",
    "for i in range(len(data_set_labels)):\n",
    "    if i%39 < 25:\n",
    "        training_set_labels.append(data_set_labels[i])\n",
    "    else:\n",
    "        test_set_labels.append(data_set_labels[i])\n",
    "        \n",
    "training_set_labels = np.array(training_set_labels)\n",
    "test_set_labels = np.array(test_set_labels)"
   ]
  },
  {
   "cell_type": "markdown",
   "id": "75db6c61",
   "metadata": {},
   "source": [
    "## Calculating Parameters"
   ]
  },
  {
   "cell_type": "code",
   "execution_count": 68,
   "id": "cb0b8814",
   "metadata": {},
   "outputs": [
    {
     "name": "stdout",
     "output_type": "stream",
     "text": [
      "Probabilities on pixels: \n",
      " [[0.   0.   0.   ... 0.68 0.68 0.64]\n",
      " [0.04 0.24 0.24 ... 0.8  0.56 0.24]\n",
      " [0.   0.   0.   ... 0.6  0.88 0.8 ]\n",
      " [0.12 0.44 0.4  ... 0.28 0.16 0.08]\n",
      " [0.   0.12 0.12 ... 0.32 0.48 0.44]]\n"
     ]
    }
   ],
   "source": [
    "K = np.max(data_set_labels)\n",
    "PIXELS = 20 * 16\n",
    "\n",
    "pcd = np.array([[np.mean(training_set[training_set_labels == (c + 1)][:,i]) \n",
    "                           for i in range(PIXELS)] \n",
    "                          for c in range(K)])\n",
    "\n",
    "print('Probabilities on pixels: \\n', pcd)"
   ]
  },
  {
   "cell_type": "code",
   "execution_count": 65,
   "id": "994de571",
   "metadata": {},
   "outputs": [
    {
     "name": "stdout",
     "output_type": "stream",
     "text": [
      "Class Priors: \n",
      " [0.2 0.2 0.2 0.2 0.2]\n"
     ]
    }
   ],
   "source": [
    "class_priors = np.array([np.mean(data_set_labels == c + 1) for c in range(K)])\n",
    "\n",
    "print('Class Priors: \\n', class_priors)"
   ]
  },
  {
   "cell_type": "code",
   "execution_count": null,
   "id": "3da71370",
   "metadata": {},
   "outputs": [],
   "source": []
  }
 ],
 "metadata": {
  "kernelspec": {
   "display_name": "Python 3 (ipykernel)",
   "language": "python",
   "name": "python3"
  },
  "language_info": {
   "codemirror_mode": {
    "name": "ipython",
    "version": 3
   },
   "file_extension": ".py",
   "mimetype": "text/x-python",
   "name": "python",
   "nbconvert_exporter": "python",
   "pygments_lexer": "ipython3",
   "version": "3.8.1"
  }
 },
 "nbformat": 4,
 "nbformat_minor": 5
}
