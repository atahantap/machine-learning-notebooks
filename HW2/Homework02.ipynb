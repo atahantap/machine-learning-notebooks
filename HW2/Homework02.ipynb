{
 "cells": [
  {
   "cell_type": "markdown",
   "id": "7b2537b9",
   "metadata": {},
   "source": [
    "# Homework 02\n",
    "\n",
    "### Atahan Tap\n",
    "### 69374"
   ]
  },
  {
   "cell_type": "markdown",
   "id": "029dc96a",
   "metadata": {},
   "source": [
    "## Importing Data"
   ]
  },
  {
   "cell_type": "code",
   "execution_count": 67,
   "id": "c485f62c",
   "metadata": {},
   "outputs": [
    {
     "name": "stdout",
     "output_type": "stream",
     "text": [
      "Data set divided into training set and test set with corresponding labels. \n",
      "\n"
     ]
    }
   ],
   "source": [
    "import math\n",
    "import matplotlib.pyplot as plt\n",
    "import numpy as np\n",
    "import scipy.stats as stats\n",
    "import pandas as pd\n",
    "\n",
    "data_set_labels = np.genfromtxt(\"hw02_data_set_labels.csv\", converters = {0: lambda n : int(n)})\n",
    "data_set_images = np.genfromtxt(\"hw02_data_set_images.csv\", delimiter = \",\")\n",
    "\n",
    "training_set = []\n",
    "test_set = []\n",
    "\n",
    "for i in range(len(data_set_images)):\n",
    "    if i%39 < 25:\n",
    "        training_set.append(data_set_images[i])\n",
    "    else:\n",
    "        test_set.append(data_set_images[i])\n",
    "        \n",
    "training_set = np.array(training_set)\n",
    "test_set = np.array(test_set)\n",
    "\n",
    "training_set_labels = []\n",
    "test_set_labels = []\n",
    "\n",
    "for i in range(len(data_set_labels)):\n",
    "    if i%39 < 25:\n",
    "        training_set_labels.append(data_set_labels[i])\n",
    "    else:\n",
    "        test_set_labels.append(data_set_labels[i])\n",
    "        \n",
    "training_set_labels = np.array(training_set_labels)\n",
    "test_set_labels = np.array(test_set_labels)\n",
    "\n",
    "print('Data set divided into training set and test set with corresponding labels. \\n')"
   ]
  },
  {
   "cell_type": "markdown",
   "id": "75db6c61",
   "metadata": {},
   "source": [
    "## Calculating Parameters"
   ]
  },
  {
   "cell_type": "code",
   "execution_count": 68,
   "id": "cb0b8814",
   "metadata": {},
   "outputs": [
    {
     "name": "stdout",
     "output_type": "stream",
     "text": [
      "Probabilities on pixels: \n",
      " [[0.   0.   0.   ... 0.68 0.68 0.64]\n",
      " [0.04 0.24 0.24 ... 0.8  0.56 0.24]\n",
      " [0.   0.   0.   ... 0.6  0.88 0.8 ]\n",
      " [0.12 0.44 0.4  ... 0.28 0.16 0.08]\n",
      " [0.   0.12 0.12 ... 0.32 0.48 0.44]]\n"
     ]
    }
   ],
   "source": [
    "K = np.max(data_set_labels)\n",
    "PIXELS = 20 * 16\n",
    "\n",
    "pcd = np.array([[np.mean(training_set[training_set_labels == (c + 1)][:,i]) \n",
    "                           for i in range(PIXELS)] \n",
    "                          for c in range(K)])\n",
    "\n",
    "print('Probabilities on pixels: \\n', pcd)"
   ]
  },
  {
   "cell_type": "code",
   "execution_count": 69,
   "id": "994de571",
   "metadata": {},
   "outputs": [
    {
     "name": "stdout",
     "output_type": "stream",
     "text": [
      "Class Priors: \n",
      " [0.2 0.2 0.2 0.2 0.2]\n"
     ]
    }
   ],
   "source": [
    "class_priors = np.array([np.mean(data_set_labels == c + 1) for c in range(K)])\n",
    "\n",
    "print('Class Priors: \\n', class_priors)"
   ]
  },
  {
   "cell_type": "markdown",
   "id": "a298a495",
   "metadata": {},
   "source": [
    "## Score functions"
   ]
  },
  {
   "cell_type": "code",
   "execution_count": 70,
   "id": "9bf1b016",
   "metadata": {},
   "outputs": [],
   "source": [
    "def safelog(n):\n",
    "    return np.log(n+1e-100)"
   ]
  },
  {
   "cell_type": "code",
   "execution_count": 71,
   "id": "4f0b37ea",
   "metadata": {},
   "outputs": [],
   "source": [
    "def score_classifier(image):\n",
    "    scores = [(score(image, c), c + 1)\n",
    "             for c in range(K)]\n",
    "    return max(scores, key = lambda i : i[0])[1]\n",
    "\n",
    "def score(image, c):\n",
    "    sum_score = 0\n",
    "    for i in range(len(image)):\n",
    "        sum_score += safelog(pcd[c][i]) if image[i] == 1 else safelog(1 - pcd[c][i])\n",
    "    sum_score += class_priors[c]\n",
    "    return sum_score\n",
    "        "
   ]
  },
  {
   "cell_type": "markdown",
   "id": "18c65af4",
   "metadata": {},
   "source": [
    "## Predictions for training set"
   ]
  },
  {
   "cell_type": "code",
   "execution_count": 72,
   "id": "e74a14db",
   "metadata": {},
   "outputs": [],
   "source": [
    "training_set_pred = [score_classifier(image) for image in training_set]"
   ]
  },
  {
   "cell_type": "code",
   "execution_count": 73,
   "id": "b30d3792",
   "metadata": {},
   "outputs": [
    {
     "name": "stdout",
     "output_type": "stream",
     "text": [
      "Confusion matrix for training set:\n",
      "\n",
      "y_truth   1   2   3   4   5\n",
      "y_pred                     \n",
      "1        25   0   0   0   0\n",
      "2         0  24   1   0   1\n",
      "3         0   0  24   0   0\n",
      "4         0   1   0  25   0\n",
      "5         0   0   0   0  24\n"
     ]
    }
   ],
   "source": [
    "confusion_matrix_training = pd.crosstab(training_set_pred,\n",
    "                               training_set_labels,\n",
    "                               rownames = ['y_pred'],\n",
    "                               colnames = ['y_truth'])\n",
    "print('Confusion matrix for training set:\\n')\n",
    "print(confusion_matrix_training)"
   ]
  },
  {
   "cell_type": "markdown",
   "id": "dd348744",
   "metadata": {},
   "source": [
    "## Predictions for test set"
   ]
  },
  {
   "cell_type": "code",
   "execution_count": 74,
   "id": "03b8d521",
   "metadata": {},
   "outputs": [],
   "source": [
    "test_set_pred = [score_classifier(image) for image in test_set]"
   ]
  },
  {
   "cell_type": "code",
   "execution_count": 76,
   "id": "d71009e3",
   "metadata": {},
   "outputs": [
    {
     "name": "stdout",
     "output_type": "stream",
     "text": [
      "Confusion matrix for test set:\n",
      "\n",
      "y_truth  1   2  3   4   5\n",
      "y_pred                   \n",
      "1        7   0  0   0   0\n",
      "2        0  11  3   2   4\n",
      "3        0   0  7   0   0\n",
      "4        7   3  3  12   0\n",
      "5        0   0  1   0  10\n"
     ]
    }
   ],
   "source": [
    "confusion_matrix_test = pd.crosstab(test_set_pred,\n",
    "                               test_set_labels,\n",
    "                               rownames = ['y_pred'],\n",
    "                               colnames = ['y_truth'])\n",
    "print('Confusion matrix for test set:\\n')\n",
    "print(confusion_matrix_test)"
   ]
  },
  {
   "cell_type": "code",
   "execution_count": null,
   "id": "48514849",
   "metadata": {},
   "outputs": [],
   "source": []
  }
 ],
 "metadata": {
  "kernelspec": {
   "display_name": "Python 3 (ipykernel)",
   "language": "python",
   "name": "python3"
  },
  "language_info": {
   "codemirror_mode": {
    "name": "ipython",
    "version": 3
   },
   "file_extension": ".py",
   "mimetype": "text/x-python",
   "name": "python",
   "nbconvert_exporter": "python",
   "pygments_lexer": "ipython3",
   "version": "3.8.1"
  }
 },
 "nbformat": 4,
 "nbformat_minor": 5
}
